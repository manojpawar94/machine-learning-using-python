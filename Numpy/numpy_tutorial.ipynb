{
  "nbformat": 4,
  "nbformat_minor": 0,
  "metadata": {
    "colab": {
      "name": "numpy_tutorial.ipynb",
      "provenance": [],
      "authorship_tag": "ABX9TyOVqCuzfxW2JvoifZpJ2qQD",
      "include_colab_link": true
    },
    "kernelspec": {
      "name": "python3",
      "display_name": "Python 3"
    }
  },
  "cells": [
    {
      "cell_type": "markdown",
      "metadata": {
        "id": "view-in-github",
        "colab_type": "text"
      },
      "source": [
        "<a href=\"https://colab.research.google.com/github/manojpawar94/machine-learning-in-python/blob/main/numpy_tutorial.ipynb\" target=\"_parent\"><img src=\"https://colab.research.google.com/assets/colab-badge.svg\" alt=\"Open In Colab\"/></a>"
      ]
    },
    {
      "cell_type": "markdown",
      "metadata": {
        "id": "F1w5lRriux31"
      },
      "source": [
        "NumPy is a python library used for working with arrays. It also has functions for working in domain of linear algebra, fourier transform, and matrices. NumPy was created in 2005 by Travis Oliphant. It is an open source project and you can use it freely. NumPy stands for Numerical Python."
      ]
    },
    {
      "cell_type": "markdown",
      "metadata": {
        "id": "a1cpcdSixnRM"
      },
      "source": [
        "### **Import Numpy**"
      ]
    },
    {
      "cell_type": "code",
      "metadata": {
        "id": "krRi_Vm_mUhJ"
      },
      "source": [
        "# import numpy library\n",
        "import numpy as np"
      ],
      "execution_count": 1,
      "outputs": []
    },
    {
      "cell_type": "markdown",
      "metadata": {
        "id": "Zzq_aWv8xuy8"
      },
      "source": [
        "### **Check version of Numpy** "
      ]
    },
    {
      "cell_type": "code",
      "metadata": {
        "id": "9mgudtfanDY6",
        "outputId": "6a53b830-13a0-49eb-e8f9-78243d0acf67",
        "colab": {
          "base_uri": "https://localhost:8080/",
          "height": 34
        }
      },
      "source": [
        "# check the version of the numpy library\n",
        "print(np.__version__)"
      ],
      "execution_count": 2,
      "outputs": [
        {
          "output_type": "stream",
          "text": [
            "1.18.5\n"
          ],
          "name": "stdout"
        }
      ]
    },
    {
      "cell_type": "markdown",
      "metadata": {
        "id": "e6vwaGC4x6eI"
      },
      "source": [
        "### **Create array using Numpy**"
      ]
    },
    {
      "cell_type": "markdown",
      "metadata": {
        "id": "uL2A1tCbyWBZ"
      },
      "source": [
        "**NumPy** is used to work with arrays. The array object in NumPy is called **ndarray**. We can create a **NumPy** ndarray object by using the array() function."
      ]
    },
    {
      "cell_type": "code",
      "metadata": {
        "id": "8VzedaQhtuls",
        "outputId": "93f32e1b-bbfd-401d-a4b4-7af091c7c1ae",
        "colab": {
          "base_uri": "https://localhost:8080/",
          "height": 51
        }
      },
      "source": [
        "# create numpy arrray \n",
        "my_array = np.array([1,2,3,4,5])\n",
        "\n",
        "# print numpy array \n",
        "print(my_array)\n",
        "\n",
        "# type of the array\n",
        "print(type(my_array))"
      ],
      "execution_count": 3,
      "outputs": [
        {
          "output_type": "stream",
          "text": [
            "[1 2 3 4 5]\n",
            "<class 'numpy.ndarray'>\n"
          ],
          "name": "stdout"
        }
      ]
    },
    {
      "cell_type": "markdown",
      "metadata": {
        "id": "IN7ae3NoyDGy"
      },
      "source": [
        "### **Create array of differnt dimensions using the Numpy**"
      ]
    },
    {
      "cell_type": "code",
      "metadata": {
        "id": "8OKV6Js6uaea",
        "outputId": "af7d4da3-3ee1-409e-dc25-00c33c8673f2",
        "colab": {
          "base_uri": "https://localhost:8080/",
          "height": 34
        }
      },
      "source": [
        "# create zero dimension array or scalar\n",
        "scalar_arr = np.array(42)\n",
        "\n",
        "print(scalar_arr)"
      ],
      "execution_count": 4,
      "outputs": [
        {
          "output_type": "stream",
          "text": [
            "42\n"
          ],
          "name": "stdout"
        }
      ]
    },
    {
      "cell_type": "code",
      "metadata": {
        "id": "98JqhuPixlON",
        "outputId": "f26554d1-e1cf-4d7f-9cd2-f23259a4711c",
        "colab": {
          "base_uri": "https://localhost:8080/",
          "height": 51
        }
      },
      "source": [
        "# create one dimensional array\n",
        "one_d_arr1 = np.array([1,2,3,4,5])\n",
        "\n",
        "one_d_arr2 = np.array((1,2,3,4,5))\n",
        "\n",
        "print('one dimensional array using list: ', one_d_arr1)\n",
        "print('one dimensional array using tuple: ', one_d_arr2)"
      ],
      "execution_count": 5,
      "outputs": [
        {
          "output_type": "stream",
          "text": [
            "one dimensional array using list:  [1 2 3 4 5]\n",
            "one dimensional array using tuple:  [1 2 3 4 5]\n"
          ],
          "name": "stdout"
        }
      ]
    },
    {
      "cell_type": "code",
      "metadata": {
        "id": "Fy34L9HOzVqg",
        "outputId": "e42e758f-a821-4997-96ac-1b9a81eb017b",
        "colab": {
          "base_uri": "https://localhost:8080/",
          "height": 221
        }
      },
      "source": [
        "# create two dimensional array \n",
        "two_d_arr1 = np.array([[1,2,3],[4,5,6]])\n",
        "\n",
        "two_d_arr2 = np.array(([1,2,3],[4,5,6]))\n",
        "\n",
        "two_d_arr3 = np.array(((1,2,3),(4,5,6)))\n",
        "\n",
        "two_d_arr4 = np.array([(1,2,3),(4,5,6)])\n",
        "\n",
        "print('two dimensional array using list of lists:\\n',two_d_arr1)\n",
        "print('two dimensional array using tuple of lists:\\n',two_d_arr2)\n",
        "print('two dimensional array using tuple of tuples:\\n',two_d_arr3)\n",
        "print('two dimensional array using list of tuples:\\n',two_d_arr4)"
      ],
      "execution_count": 10,
      "outputs": [
        {
          "output_type": "stream",
          "text": [
            "two dimensional array using list of lists:\n",
            " [[1 2 3]\n",
            " [4 5 6]]\n",
            "two dimensional array using tuple of lists:\n",
            " [[1 2 3]\n",
            " [4 5 6]]\n",
            "two dimensional array using tuple of tuples:\n",
            " [[1 2 3]\n",
            " [4 5 6]]\n",
            "two dimensional array using list of tuples:\n",
            " [[1 2 3]\n",
            " [4 5 6]]\n"
          ],
          "name": "stdout"
        }
      ]
    },
    {
      "cell_type": "code",
      "metadata": {
        "id": "JxGWTsO40a1E",
        "outputId": "a77dd8c6-7ab7-436b-c065-5e101c3dcd8c",
        "colab": {
          "base_uri": "https://localhost:8080/",
          "height": 102
        }
      },
      "source": [
        "# create three dimensional array\n",
        "three_d_arr = np.array([[[1,2,3],[4,5,6]],[[1,2,3],[4,5,6]]])\n",
        "\n",
        "print(three_d_arr)"
      ],
      "execution_count": 11,
      "outputs": [
        {
          "output_type": "stream",
          "text": [
            "[[[1 2 3]\n",
            "  [4 5 6]]\n",
            "\n",
            " [[1 2 3]\n",
            "  [4 5 6]]]\n"
          ],
          "name": "stdout"
        }
      ]
    },
    {
      "cell_type": "markdown",
      "metadata": {
        "id": "1QOUQXFC2mUo"
      },
      "source": [
        "### **Check the dimension of Numpy dnarray object**\n",
        "NumPy Arrays provides the **ndim** attribute that returns an integer that tells us how many dimensions the array have."
      ]
    },
    {
      "cell_type": "code",
      "metadata": {
        "id": "tc1OhOlP2jPg",
        "outputId": "9f808fc2-69aa-4ea8-9b9c-4caeab95c3fe",
        "colab": {
          "base_uri": "https://localhost:8080/",
          "height": 68
        }
      },
      "source": [
        "# checking the dimension of the array\n",
        "print('The dimension of one_d_arr1 is', one_d_arr1.ndim)\n",
        "print('The dimension of two_d_arr1 is', two_d_arr1.ndim)\n",
        "print('The dimension of three_d_arr is', three_d_arr.ndim)"
      ],
      "execution_count": 12,
      "outputs": [
        {
          "output_type": "stream",
          "text": [
            "The dimension of one_d_arr1 is 1\n",
            "The dimension of two_d_arr1 is 2\n",
            "The dimension of three_d_arr is 3\n"
          ],
          "name": "stdout"
        }
      ]
    },
    {
      "cell_type": "markdown",
      "metadata": {
        "id": "OUEKy1Fk2kyl"
      },
      "source": [
        "### **Higher demension array**"
      ]
    },
    {
      "cell_type": "code",
      "metadata": {
        "id": "0r1ourwv3niC"
      },
      "source": [
        ""
      ],
      "execution_count": null,
      "outputs": []
    }
  ]
}