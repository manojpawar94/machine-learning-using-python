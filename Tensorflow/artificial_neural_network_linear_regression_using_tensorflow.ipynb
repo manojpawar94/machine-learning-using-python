{
  "nbformat": 4,
  "nbformat_minor": 0,
  "metadata": {
    "colab": {
      "name": "artificial_neural_network_linear_regression_using_tensorflow",
      "provenance": [],
      "collapsed_sections": [],
      "include_colab_link": true
    },
    "kernelspec": {
      "name": "python3",
      "display_name": "Python 3"
    }
  },
  "cells": [
    {
      "cell_type": "markdown",
      "metadata": {
        "id": "view-in-github",
        "colab_type": "text"
      },
      "source": [
        "<a href=\"https://colab.research.google.com/github/manojpawar94/machine-learning-in-python/blob/main/artificial_neural_network_linear_regression_using_tensorflow.ipynb\" target=\"_parent\"><img src=\"https://colab.research.google.com/assets/colab-badge.svg\" alt=\"Open In Colab\"/></a>"
      ]
    },
    {
      "cell_type": "markdown",
      "metadata": {
        "id": "3cbb7fRy-eyr"
      },
      "source": [
        "# Artificial Neural Network : Linear Regression Using Tensorflow"
      ]
    },
    {
      "cell_type": "markdown",
      "metadata": {
        "id": "8sNDnxE2-pwE"
      },
      "source": [
        "### Importing the libraries"
      ]
    },
    {
      "cell_type": "code",
      "metadata": {
        "id": "lxChR1Rk-umf"
      },
      "source": [
        "import numpy as np\n",
        "import pandas as pd\n",
        "import tensorflow as tf"
      ],
      "execution_count": 1,
      "outputs": []
    },
    {
      "cell_type": "code",
      "metadata": {
        "id": "uBTqR3nacj0e",
        "outputId": "36007a25-f692-48e5-b81b-1135e987b7be",
        "colab": {
          "base_uri": "https://localhost:8080/",
          "height": 35
        }
      },
      "source": [
        "tf.__version__"
      ],
      "execution_count": 2,
      "outputs": [
        {
          "output_type": "execute_result",
          "data": {
            "application/vnd.google.colaboratory.intrinsic+json": {
              "type": "string"
            },
            "text/plain": [
              "'2.3.0'"
            ]
          },
          "metadata": {
            "tags": []
          },
          "execution_count": 2
        }
      ]
    },
    {
      "cell_type": "markdown",
      "metadata": {
        "id": "AG3FQEch-yuA"
      },
      "source": [
        "## Part 1 - Data Preprocessing"
      ]
    },
    {
      "cell_type": "markdown",
      "metadata": {
        "id": "-4zq8Mza_D9O"
      },
      "source": [
        "### Importing the dataset"
      ]
    },
    {
      "cell_type": "code",
      "metadata": {
        "id": "B9CV13Co_HHM"
      },
      "source": [
        "dataset = pd.read_excel('Folds5x2_pp.xlsx')\n",
        "X = dataset.iloc[:, :-1].values\n",
        "y = dataset.iloc[:, -1].values"
      ],
      "execution_count": 3,
      "outputs": []
    },
    {
      "cell_type": "markdown",
      "metadata": {
        "id": "VC6omXel_Up0"
      },
      "source": [
        "### Splitting the dataset into the Training set and Test set"
      ]
    },
    {
      "cell_type": "code",
      "metadata": {
        "id": "L5edeb2r_agx"
      },
      "source": [
        "from sklearn.model_selection import train_test_split\n",
        "X_train, X_test, y_train, y_test = train_test_split(X, y, test_size = 0.2, random_state = 0)"
      ],
      "execution_count": 4,
      "outputs": []
    },
    {
      "cell_type": "markdown",
      "metadata": {
        "id": "_mSLlAT9_eyI"
      },
      "source": [
        "## Part 2 - Building the ANN"
      ]
    },
    {
      "cell_type": "markdown",
      "metadata": {
        "id": "CsBULd_f_wLY"
      },
      "source": [
        "### Initializing the ANN"
      ]
    },
    {
      "cell_type": "code",
      "metadata": {
        "id": "J6Hd97Ls__Nz"
      },
      "source": [
        "ann = tf.keras.models.Sequential()"
      ],
      "execution_count": 5,
      "outputs": []
    },
    {
      "cell_type": "markdown",
      "metadata": {
        "id": "iitAFJS_ABUn"
      },
      "source": [
        "### Adding the input layer and the first hidden layer"
      ]
    },
    {
      "cell_type": "code",
      "metadata": {
        "id": "ksO_Vv40AHix"
      },
      "source": [
        "ann.add(tf.keras.layers.Dense(units=6, activation='relu'))"
      ],
      "execution_count": 6,
      "outputs": []
    },
    {
      "cell_type": "markdown",
      "metadata": {
        "id": "-lb4kK_wAKbs"
      },
      "source": [
        "### Adding the second hidden layer"
      ]
    },
    {
      "cell_type": "code",
      "metadata": {
        "id": "c2357OqEAQOQ"
      },
      "source": [
        "ann.add(tf.keras.layers.Dense(units=6, activation='relu'))"
      ],
      "execution_count": 7,
      "outputs": []
    },
    {
      "cell_type": "markdown",
      "metadata": {
        "id": "jwMOmKb3AdBY"
      },
      "source": [
        "### Adding the output layer"
      ]
    },
    {
      "cell_type": "code",
      "metadata": {
        "id": "YFATpzsUAkLL"
      },
      "source": [
        "ann.add(tf.keras.layers.Dense(units=1))"
      ],
      "execution_count": 8,
      "outputs": []
    },
    {
      "cell_type": "markdown",
      "metadata": {
        "id": "fq7e4fF6A1yy"
      },
      "source": [
        "## Part 3 - Training the ANN"
      ]
    },
    {
      "cell_type": "markdown",
      "metadata": {
        "id": "qDeylAs2An25"
      },
      "source": [
        "### Compiling the ANN"
      ]
    },
    {
      "cell_type": "code",
      "metadata": {
        "id": "pesgbWlCAtB4"
      },
      "source": [
        "ann.compile(optimizer = 'adam', loss = 'mean_squared_error')"
      ],
      "execution_count": 9,
      "outputs": []
    },
    {
      "cell_type": "markdown",
      "metadata": {
        "id": "YjVuiybYOo7r"
      },
      "source": [
        "### Training the ANN model on the Training set"
      ]
    },
    {
      "cell_type": "code",
      "metadata": {
        "id": "c_vV-tiiA5zn",
        "outputId": "f712e46f-9c4a-441a-bfed-1cfbb732f623",
        "colab": {
          "base_uri": "https://localhost:8080/",
          "height": 1000
        }
      },
      "source": [
        "ann.fit(X_train, y_train, batch_size = 32, epochs = 100)"
      ],
      "execution_count": 10,
      "outputs": [
        {
          "output_type": "stream",
          "text": [
            "Epoch 1/100\n",
            "240/240 [==============================] - 0s 814us/step - loss: 16934.6484\n",
            "Epoch 2/100\n",
            "240/240 [==============================] - 0s 806us/step - loss: 347.4557\n",
            "Epoch 3/100\n",
            "240/240 [==============================] - 0s 909us/step - loss: 330.6691\n",
            "Epoch 4/100\n",
            "240/240 [==============================] - 0s 810us/step - loss: 310.1085\n",
            "Epoch 5/100\n",
            "240/240 [==============================] - 0s 896us/step - loss: 286.9306\n",
            "Epoch 6/100\n",
            "240/240 [==============================] - 0s 800us/step - loss: 261.3301\n",
            "Epoch 7/100\n",
            "240/240 [==============================] - 0s 903us/step - loss: 234.5655\n",
            "Epoch 8/100\n",
            "240/240 [==============================] - 0s 826us/step - loss: 207.1747\n",
            "Epoch 9/100\n",
            "240/240 [==============================] - 0s 832us/step - loss: 180.0751\n",
            "Epoch 10/100\n",
            "240/240 [==============================] - 0s 878us/step - loss: 154.8306\n",
            "Epoch 11/100\n",
            "240/240 [==============================] - 0s 829us/step - loss: 130.3139\n",
            "Epoch 12/100\n",
            "240/240 [==============================] - 0s 814us/step - loss: 108.5397\n",
            "Epoch 13/100\n",
            "240/240 [==============================] - 0s 814us/step - loss: 90.1440\n",
            "Epoch 14/100\n",
            "240/240 [==============================] - 0s 825us/step - loss: 74.4346\n",
            "Epoch 15/100\n",
            "240/240 [==============================] - 0s 881us/step - loss: 61.9741\n",
            "Epoch 16/100\n",
            "240/240 [==============================] - 0s 783us/step - loss: 52.5284\n",
            "Epoch 17/100\n",
            "240/240 [==============================] - 0s 802us/step - loss: 46.1187\n",
            "Epoch 18/100\n",
            "240/240 [==============================] - 0s 885us/step - loss: 40.4589\n",
            "Epoch 19/100\n",
            "240/240 [==============================] - 0s 770us/step - loss: 36.6053\n",
            "Epoch 20/100\n",
            "240/240 [==============================] - 0s 783us/step - loss: 33.7228\n",
            "Epoch 21/100\n",
            "240/240 [==============================] - 0s 902us/step - loss: 30.9918\n",
            "Epoch 22/100\n",
            "240/240 [==============================] - 0s 788us/step - loss: 29.3167\n",
            "Epoch 23/100\n",
            "240/240 [==============================] - 0s 818us/step - loss: 28.1078\n",
            "Epoch 24/100\n",
            "240/240 [==============================] - 0s 794us/step - loss: 27.3758\n",
            "Epoch 25/100\n",
            "240/240 [==============================] - 0s 802us/step - loss: 26.9974\n",
            "Epoch 26/100\n",
            "240/240 [==============================] - 0s 801us/step - loss: 26.8801\n",
            "Epoch 27/100\n",
            "240/240 [==============================] - 0s 801us/step - loss: 26.7174\n",
            "Epoch 28/100\n",
            "240/240 [==============================] - 0s 875us/step - loss: 27.1934\n",
            "Epoch 29/100\n",
            "240/240 [==============================] - 0s 820us/step - loss: 26.6848\n",
            "Epoch 30/100\n",
            "240/240 [==============================] - 0s 792us/step - loss: 26.7073\n",
            "Epoch 31/100\n",
            "240/240 [==============================] - 0s 834us/step - loss: 27.1945\n",
            "Epoch 32/100\n",
            "240/240 [==============================] - 0s 813us/step - loss: 26.8338\n",
            "Epoch 33/100\n",
            "240/240 [==============================] - 0s 819us/step - loss: 27.0249\n",
            "Epoch 34/100\n",
            "240/240 [==============================] - 0s 806us/step - loss: 27.2774\n",
            "Epoch 35/100\n",
            "240/240 [==============================] - 0s 834us/step - loss: 26.8869\n",
            "Epoch 36/100\n",
            "240/240 [==============================] - 0s 790us/step - loss: 27.4901\n",
            "Epoch 37/100\n",
            "240/240 [==============================] - 0s 791us/step - loss: 27.1157\n",
            "Epoch 38/100\n",
            "240/240 [==============================] - 0s 912us/step - loss: 26.6269\n",
            "Epoch 39/100\n",
            "240/240 [==============================] - 0s 797us/step - loss: 27.0709\n",
            "Epoch 40/100\n",
            "240/240 [==============================] - 0s 795us/step - loss: 27.5426\n",
            "Epoch 41/100\n",
            "240/240 [==============================] - 0s 813us/step - loss: 27.3261\n",
            "Epoch 42/100\n",
            "240/240 [==============================] - 0s 801us/step - loss: 27.0390\n",
            "Epoch 43/100\n",
            "240/240 [==============================] - 0s 890us/step - loss: 27.0254\n",
            "Epoch 44/100\n",
            "240/240 [==============================] - 0s 805us/step - loss: 26.7587\n",
            "Epoch 45/100\n",
            "240/240 [==============================] - 0s 803us/step - loss: 26.5663\n",
            "Epoch 46/100\n",
            "240/240 [==============================] - 0s 914us/step - loss: 26.8127\n",
            "Epoch 47/100\n",
            "240/240 [==============================] - 0s 805us/step - loss: 27.2167\n",
            "Epoch 48/100\n",
            "240/240 [==============================] - 0s 784us/step - loss: 27.2610\n",
            "Epoch 49/100\n",
            "240/240 [==============================] - 0s 916us/step - loss: 27.1047\n",
            "Epoch 50/100\n",
            "240/240 [==============================] - 0s 787us/step - loss: 27.6850\n",
            "Epoch 51/100\n",
            "240/240 [==============================] - 0s 803us/step - loss: 27.0035\n",
            "Epoch 52/100\n",
            "240/240 [==============================] - 0s 905us/step - loss: 27.2313\n",
            "Epoch 53/100\n",
            "240/240 [==============================] - 0s 783us/step - loss: 26.7680\n",
            "Epoch 54/100\n",
            "240/240 [==============================] - 0s 801us/step - loss: 26.9611\n",
            "Epoch 55/100\n",
            "240/240 [==============================] - 0s 814us/step - loss: 26.9813\n",
            "Epoch 56/100\n",
            "240/240 [==============================] - 0s 832us/step - loss: 27.4046\n",
            "Epoch 57/100\n",
            "240/240 [==============================] - 0s 818us/step - loss: 27.4689\n",
            "Epoch 58/100\n",
            "240/240 [==============================] - 0s 811us/step - loss: 27.0225\n",
            "Epoch 59/100\n",
            "240/240 [==============================] - 0s 820us/step - loss: 27.3085\n",
            "Epoch 60/100\n",
            "240/240 [==============================] - 0s 885us/step - loss: 26.8153\n",
            "Epoch 61/100\n",
            "240/240 [==============================] - 0s 815us/step - loss: 26.9728\n",
            "Epoch 62/100\n",
            "240/240 [==============================] - 0s 813us/step - loss: 27.0103\n",
            "Epoch 63/100\n",
            "240/240 [==============================] - 0s 814us/step - loss: 27.4096\n",
            "Epoch 64/100\n",
            "240/240 [==============================] - 0s 845us/step - loss: 27.0737\n",
            "Epoch 65/100\n",
            "240/240 [==============================] - 0s 797us/step - loss: 27.0443\n",
            "Epoch 66/100\n",
            "240/240 [==============================] - 0s 861us/step - loss: 27.6089\n",
            "Epoch 67/100\n",
            "240/240 [==============================] - 0s 808us/step - loss: 26.9462\n",
            "Epoch 68/100\n",
            "240/240 [==============================] - 0s 817us/step - loss: 27.0526\n",
            "Epoch 69/100\n",
            "240/240 [==============================] - 0s 885us/step - loss: 26.4950\n",
            "Epoch 70/100\n",
            "240/240 [==============================] - 0s 813us/step - loss: 27.4617\n",
            "Epoch 71/100\n",
            "240/240 [==============================] - 0s 954us/step - loss: 26.4910\n",
            "Epoch 72/100\n",
            "240/240 [==============================] - 0s 835us/step - loss: 27.9109\n",
            "Epoch 73/100\n",
            "240/240 [==============================] - 0s 892us/step - loss: 26.5488\n",
            "Epoch 74/100\n",
            "240/240 [==============================] - 0s 825us/step - loss: 27.3134\n",
            "Epoch 75/100\n",
            "240/240 [==============================] - 0s 796us/step - loss: 26.8393\n",
            "Epoch 76/100\n",
            "240/240 [==============================] - 0s 830us/step - loss: 26.6277\n",
            "Epoch 77/100\n",
            "240/240 [==============================] - 0s 815us/step - loss: 27.4367\n",
            "Epoch 78/100\n",
            "240/240 [==============================] - 0s 793us/step - loss: 26.5759\n",
            "Epoch 79/100\n",
            "240/240 [==============================] - 0s 797us/step - loss: 26.3785\n",
            "Epoch 80/100\n",
            "240/240 [==============================] - 0s 817us/step - loss: 27.3813\n",
            "Epoch 81/100\n",
            "240/240 [==============================] - 0s 810us/step - loss: 26.5472\n",
            "Epoch 82/100\n",
            "240/240 [==============================] - 0s 865us/step - loss: 27.4756\n",
            "Epoch 83/100\n",
            "240/240 [==============================] - 0s 868us/step - loss: 27.0598\n",
            "Epoch 84/100\n",
            "240/240 [==============================] - 0s 797us/step - loss: 26.9951\n",
            "Epoch 85/100\n",
            "240/240 [==============================] - 0s 798us/step - loss: 27.0536\n",
            "Epoch 86/100\n",
            "240/240 [==============================] - 0s 785us/step - loss: 27.2039\n",
            "Epoch 87/100\n",
            "240/240 [==============================] - 0s 891us/step - loss: 26.5522\n",
            "Epoch 88/100\n",
            "240/240 [==============================] - 0s 793us/step - loss: 27.0473\n",
            "Epoch 89/100\n",
            "240/240 [==============================] - 0s 790us/step - loss: 26.9100\n",
            "Epoch 90/100\n",
            "240/240 [==============================] - 0s 817us/step - loss: 26.8835\n",
            "Epoch 91/100\n",
            "240/240 [==============================] - 0s 823us/step - loss: 26.7852\n",
            "Epoch 92/100\n",
            "240/240 [==============================] - 0s 823us/step - loss: 26.9514\n",
            "Epoch 93/100\n",
            "240/240 [==============================] - 0s 790us/step - loss: 26.5450\n",
            "Epoch 94/100\n",
            "240/240 [==============================] - 0s 876us/step - loss: 26.8697\n",
            "Epoch 95/100\n",
            "240/240 [==============================] - 0s 818us/step - loss: 26.9842\n",
            "Epoch 96/100\n",
            "240/240 [==============================] - 0s 837us/step - loss: 26.9964\n",
            "Epoch 97/100\n",
            "240/240 [==============================] - 0s 871us/step - loss: 27.6666\n",
            "Epoch 98/100\n",
            "240/240 [==============================] - 0s 932us/step - loss: 27.5912\n",
            "Epoch 99/100\n",
            "240/240 [==============================] - 0s 825us/step - loss: 27.2813\n",
            "Epoch 100/100\n",
            "240/240 [==============================] - 0s 792us/step - loss: 26.6152\n"
          ],
          "name": "stdout"
        },
        {
          "output_type": "execute_result",
          "data": {
            "text/plain": [
              "<tensorflow.python.keras.callbacks.History at 0x7fe49d993b38>"
            ]
          },
          "metadata": {
            "tags": []
          },
          "execution_count": 10
        }
      ]
    },
    {
      "cell_type": "markdown",
      "metadata": {
        "id": "0H0zKKNEBLD5"
      },
      "source": [
        "### Predicting the results of the Test set"
      ]
    },
    {
      "cell_type": "code",
      "metadata": {
        "id": "IA0yApEmBG1X",
        "outputId": "6eecb1b1-a1c6-4180-bbb4-7dd98a8ee61f",
        "colab": {
          "base_uri": "https://localhost:8080/",
          "height": 136
        }
      },
      "source": [
        "y_pred = ann.predict(X_test)\n",
        "np.set_printoptions(precision=2)\n",
        "print(np.concatenate((y_pred.reshape(len(y_pred),1), y_test.reshape(len(y_test),1)),1))"
      ],
      "execution_count": 11,
      "outputs": [
        {
          "output_type": "stream",
          "text": [
            "[[430.99 431.23]\n",
            " [461.96 460.01]\n",
            " [465.43 461.14]\n",
            " ...\n",
            " [472.68 473.26]\n",
            " [439.5  438.  ]\n",
            " [458.68 463.28]]\n"
          ],
          "name": "stdout"
        }
      ]
    }
  ]
}